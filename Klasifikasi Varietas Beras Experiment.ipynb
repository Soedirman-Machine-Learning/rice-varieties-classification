{
  "nbformat": 4,
  "nbformat_minor": 0,
  "metadata": {
    "colab": {
      "name": "Klasifikasi Varietas Beras MobileNet.ipynb",
      "provenance": [],
      "collapsed_sections": [],
      "toc_visible": true,
      "machine_shape": "hm",
      "include_colab_link": true
    },
    "kernelspec": {
      "name": "python3",
      "display_name": "Python 3"
    },
    "accelerator": "GPU"
  },
  "cells": [
    {
      "cell_type": "markdown",
      "metadata": {
        "id": "view-in-github",
        "colab_type": "text"
      },
      "source": [
        "<a href=\"https://colab.research.google.com/github/Vidi005/Klasifikasi-3-Varietas-Beras/blob/master/Klasifikasi%20Varietas%20Beras%20MobileNet.ipynb\" target=\"_parent\"><img src=\"https://colab.research.google.com/assets/colab-badge.svg\" alt=\"Open In Colab\"/></a>"
      ]
    },
    {
      "cell_type": "markdown",
      "metadata": {
        "id": "x6JoE4rdE9ae",
        "colab_type": "text"
      },
      "source": [
        "# **Klasifikasi 3 Varietas Beras**"
      ]
    },
    {
      "cell_type": "markdown",
      "metadata": {
        "id": "r9hD24Q7uaMn",
        "colab_type": "text"
      },
      "source": [
        "# Mengambil *Dataset* dari *Github*"
      ]
    },
    {
      "cell_type": "code",
      "metadata": {
        "id": "f_aICNeDuobz",
        "colab_type": "code",
        "colab": {}
      },
      "source": [
        "!apt-get install subversion > /dev/null\n",
        "\n",
        "!svn export https://github.com/Vidi005/Klasifikasi-3-Varietas-Beras/trunk/data > /dev/null"
      ],
      "execution_count": 0,
      "outputs": []
    },
    {
      "cell_type": "markdown",
      "metadata": {
        "id": "hxlu9J0UFEbb",
        "colab_type": "text"
      },
      "source": [
        "## Persiapan"
      ]
    },
    {
      "cell_type": "markdown",
      "metadata": {
        "id": "kNqEeYHZIj7W",
        "colab_type": "text"
      },
      "source": [
        "Program ini dibuat untuk membedakan 3 varietas beras yaitu :\n",
        "\n",
        "1.   Varietas Beras Basmathi\n",
        "2.   Varietas Beras IR 64\n",
        "3.   Varietas Beras Ketan\n",
        "\n",
        "Pada program ini menggunakan metode *Convolutional Neural Network* (CNN) untuk melakukan klasifikasinya."
      ]
    },
    {
      "cell_type": "markdown",
      "metadata": {
        "id": "DdqTISDXFI9q",
        "colab_type": "text"
      },
      "source": [
        "## Memasukan Fungsi *Library*"
      ]
    },
    {
      "cell_type": "code",
      "metadata": {
        "id": "vv_CFDFPE2BJ",
        "colab_type": "code",
        "outputId": "af5eb119-de8f-4c04-e6d5-27a6371390e9",
        "colab": {
          "base_uri": "https://localhost:8080/",
          "height": 34
        }
      },
      "source": [
        "from __future__ import absolute_import, division, print_function, unicode_literals\n",
        "\n",
        "try:\n",
        " 
